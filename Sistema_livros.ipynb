{
  "cells": [
    {
      "cell_type": "markdown",
      "metadata": {
        "id": "view-in-github",
        "colab_type": "text"
      },
      "source": [
        "<a href=\"https://colab.research.google.com/github/Thalysonsanti/Projetos-da-faculdade/blob/main/Sistema_livros.ipynb\" target=\"_parent\"><img src=\"https://colab.research.google.com/assets/colab-badge.svg\" alt=\"Open In Colab\"/></a>"
      ]
    },
    {
      "cell_type": "code",
      "execution_count": 1,
      "metadata": {
        "id": "5_zPOGxooCid"
      },
      "outputs": [],
      "source": [
        "# Importei a biblioteca metplotlib para gerar gráficos\n",
        "import matplotlib.pyplot as plt"
      ]
    },
    {
      "cell_type": "code",
      "execution_count": 2,
      "metadata": {
        "id": "gJxB85WbohZN"
      },
      "outputs": [],
      "source": [
        "# Cosntrução da classe para inicializar os atributos do livro\n",
        "class livro:\n",
        "  def __init__(self, titulo, autor, genero, quantidade):\n",
        "    self.titulo = titulo\n",
        "    self.autor = autor\n",
        "    self.genero = genero\n",
        "    self.quantidade = quantidade\n",
        "\n",
        "  # Método para representar o objeto como texto (quando usarmos print)\n",
        "  def __str__(self):\n",
        "    return(f'Título: {self.titulo}, Autor: {self.autor}, Gênero: {self.genero}, Quantidade: {self.quantidade}')"
      ]
    },
    {
      "cell_type": "code",
      "execution_count": 3,
      "metadata": {
        "id": "Mg2qjKhQqEng"
      },
      "outputs": [],
      "source": [
        "livros = [] # Lista que receberá todos os objetos do tipo livro"
      ]
    },
    {
      "cell_type": "code",
      "execution_count": 4,
      "metadata": {
        "id": "NoCJagzPpSR_"
      },
      "outputs": [],
      "source": [
        "# Função para cadastrar um novo livro\n",
        "def cadastrar_livro():\n",
        "  titulo = input('Digite o título do livro: ')\n",
        "  autor = input('Digite o autor do livro: ')\n",
        "  genero = input('Digite o gênero do livro: ')\n",
        "  quantidade = int(input('Digite a quantidade disponível: '))\n",
        "\n",
        "  # Criamos um Objeto do tipo Livro na Lista\n",
        "  novo_livro = livro(titulo, autor, genero, quantidade)\n",
        "\n",
        "  # Adicionamos o Livro na lista\n",
        "  livros.append(novo_livro)\n",
        "  print('Livro cadastrado com sucesso!\\n')"
      ]
    },
    {
      "cell_type": "code",
      "execution_count": 5,
      "metadata": {
        "id": "Ufi1pwdzsxgC"
      },
      "outputs": [],
      "source": [
        "#Função para listar todos os Livros\n",
        "def listar_livros():\n",
        "  if not livros:\n",
        "    print('Nenhum livro cadastrado.\\n')\n",
        "    return\n",
        "\n",
        "  print('\\n Lista de Livros: ')\n",
        "  for livro in livros:\n",
        "    print(livro)\n",
        "  print()"
      ]
    },
    {
      "cell_type": "code",
      "execution_count": 6,
      "metadata": {
        "id": "F-xGN6qNt1xB"
      },
      "outputs": [],
      "source": [
        "# Função para buscar um livro pelo título\n",
        "def buscar_livro():\n",
        "    titulo = input(\"Digite o título do livro que deseja buscar: \")\n",
        "\n",
        "    # Percorre todos os livros cadastrados\n",
        "    for livro in livros:\n",
        "        if livro.titulo.lower() == titulo.lower():  # Ignora maiúsculas/minúsculas\n",
        "            print(\" Livro encontrado:\")\n",
        "            print(livro, \"\\n\")\n",
        "            return\n",
        "\n",
        "    # Caso nenhum livro seja encontrado\n",
        "    print(\"Livro não encontrado.\\n\")\n"
      ]
    },
    {
      "cell_type": "code",
      "execution_count": 7,
      "metadata": {
        "id": "ZFYQ_usfuMml"
      },
      "outputs": [],
      "source": [
        "# Função para gerar um gráfico de livros por gênero\n",
        "def gerar_grafico():\n",
        "    if not livros:  # Se não houver livros cadastrados\n",
        "        print(\"Nenhum livro cadastrado para gerar gráfico.\\n\")\n",
        "        return\n",
        "\n",
        "    # Dicionário para contar os livros por gênero\n",
        "    generos = {}\n",
        "    for livro in livros:\n",
        "        if livro.genero in generos:\n",
        "            generos[livro.genero] += livro.quantidade\n",
        "        else:\n",
        "            generos[livro.genero] = livro.quantidade\n",
        "\n",
        "    # Gráfico de barras\n",
        "    plt.bar(generos.keys(), generos.values(), color='skyblue')\n",
        "    plt.title(\"Quantidade de Livros por Gênero\")  # Título do gráfico\n",
        "    plt.xlabel(\"Gêneros\")  # Rótulo do eixo X\n",
        "    plt.ylabel(\"Quantidade\")  # Rótulo do eixo Y\n",
        "    plt.show()  # Exibe o gráfico na tela"
      ]
    },
    {
      "cell_type": "code",
      "execution_count": null,
      "metadata": {
        "colab": {
          "background_save": true,
          "base_uri": "https://localhost:8080/"
        },
        "id": "YmXwvwp2ussF",
        "outputId": "142df3d7-f282-439f-a268-5813cb341217"
      },
      "outputs": [
        {
          "output_type": "stream",
          "name": "stdout",
          "text": [
            "=== Sistema de Gerenciamento de Livros ===\n",
            "1 - Cadastrar livro\n",
            "2 - Listar livros\n",
            "3 - Buscar livro por título\n",
            "4 - Gerar gráfico por gênero\n",
            "5 - Sair\n"
          ]
        }
      ],
      "source": [
        "# Criação de menu principal\n",
        "def menu():\n",
        "    while True:  # Loop infinito até o usuário escolher \"Sair\"\n",
        "        print(\"=== Sistema de Gerenciamento de Livros ===\")\n",
        "        print(\"1 - Cadastrar livro\")\n",
        "        print(\"2 - Listar livros\")\n",
        "        print(\"3 - Buscar livro por título\")\n",
        "        print(\"4 - Gerar gráfico por gênero\")\n",
        "        print(\"5 - Sair\")\n",
        "\n",
        "        opcao = input(\"Escolha uma opção: \")\n",
        "\n",
        "        if opcao == \"1\":\n",
        "            cadastrar_livro()\n",
        "        elif opcao == \"2\":\n",
        "            listar_livros()\n",
        "        elif opcao == \"3\":\n",
        "            buscar_livro()\n",
        "        elif opcao == \"4\":\n",
        "            gerar_grafico()\n",
        "        elif opcao == \"5\":\n",
        "            print(\"Saindo do sistema... Até mais! \")\n",
        "            break  # Encerra o loop e finaliza o programa\n",
        "        else:\n",
        "            print(\"Opção inválida. Tente novamente.\\n\")\n",
        "\n",
        "# Início do programa\n",
        "menu()"
      ]
    }
  ],
  "metadata": {
    "colab": {
      "provenance": [],
      "authorship_tag": "ABX9TyPBDLJpbo21zK0CUBi/IXW+",
      "include_colab_link": true
    },
    "kernelspec": {
      "display_name": "Python 3",
      "name": "python3"
    },
    "language_info": {
      "name": "python"
    }
  },
  "nbformat": 4,
  "nbformat_minor": 0
}